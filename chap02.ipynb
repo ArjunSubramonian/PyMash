{
 "cells": [
  {
   "cell_type": "markdown",
   "metadata": {},
   "source": [
    "## ThinkDSP\n",
    "\n",
    "This notebook contains code examples from Chapter 2: Harmonics\n",
    "\n",
    "Copyright 2015 Allen Downey\n",
    "\n",
    "License: [Creative Commons Attribution 4.0 International](http://creativecommons.org/licenses/by/4.0/)"
   ]
  },
  {
   "cell_type": "code",
   "execution_count": null,
   "metadata": {},
   "outputs": [],
   "source": [
    "from __future__ import print_function, division\n",
    "\n",
    "%matplotlib inline\n",
    "\n",
    "import thinkdsp\n",
    "import thinkplot\n",
    "\n",
    "from ipywidgets import interact, interactive, fixed\n",
    "import ipywidgets as widgets\n",
    "from IPython.display import display"
   ]
  },
  {
   "cell_type": "markdown",
   "metadata": {},
   "source": [
    "## Waveforms and harmonics\n",
    "\n",
    "Create a triangle signal and plot a 3 period segment."
   ]
  },
  {
   "cell_type": "code",
   "execution_count": null,
   "metadata": {},
   "outputs": [],
   "source": [
    "signal = thinkdsp.TriangleSignal(200)\n",
    "duration = signal.period*3\n",
    "segment = signal.make_wave(duration, framerate=10000)\n",
    "segment.plot()"
   ]
  },
  {
   "cell_type": "markdown",
   "metadata": {},
   "source": [
    "Make a wave and play it."
   ]
  },
  {
   "cell_type": "code",
   "execution_count": null,
   "metadata": {},
   "outputs": [],
   "source": [
    "wave = signal.make_wave(duration=0.5, framerate=10000)\n",
    "wave.apodize()\n",
    "wave.make_audio()"
   ]
  },
  {
   "cell_type": "markdown",
   "metadata": {},
   "source": [
    "Compute its spectrum and plot it."
   ]
  },
  {
   "cell_type": "code",
   "execution_count": null,
   "metadata": {},
   "outputs": [],
   "source": [
    "spectrum = wave.make_spectrum()\n",
    "spectrum.plot()"
   ]
  },
  {
   "cell_type": "markdown",
   "metadata": {},
   "source": [
    "Make a square signal and plot a 3 period segment."
   ]
  },
  {
   "cell_type": "code",
   "execution_count": null,
   "metadata": {},
   "outputs": [],
   "source": [
    "signal = thinkdsp.SquareSignal(200)\n",
    "duration = signal.period*3\n",
    "segment = signal.make_wave(duration, framerate=10000)\n",
    "segment.plot()\n",
    "thinkplot.config(ylim=[-1.05, 1.05], legend=False)"
   ]
  },
  {
   "cell_type": "markdown",
   "metadata": {},
   "source": [
    "Make a wave and play it."
   ]
  },
  {
   "cell_type": "code",
   "execution_count": null,
   "metadata": {},
   "outputs": [],
   "source": [
    "wave = signal.make_wave(duration=0.5, framerate=10000)\n",
    "wave.apodize()\n",
    "wave.make_audio()"
   ]
  },
  {
   "cell_type": "markdown",
   "metadata": {},
   "source": [
    "Compute its spectrum and plot it."
   ]
  },
  {
   "cell_type": "code",
   "execution_count": null,
   "metadata": {},
   "outputs": [],
   "source": [
    "spectrum = wave.make_spectrum()\n",
    "spectrum.plot()"
   ]
  },
  {
   "cell_type": "markdown",
   "metadata": {},
   "source": [
    "Create a sawtooth signal and plot a 3 period segment."
   ]
  },
  {
   "cell_type": "code",
   "execution_count": null,
   "metadata": {},
   "outputs": [],
   "source": [
    "signal = thinkdsp.SawtoothSignal(200)\n",
    "duration = signal.period*3\n",
    "segment = signal.make_wave(duration, framerate=10000)\n",
    "segment.plot()"
   ]
  },
  {
   "cell_type": "markdown",
   "metadata": {},
   "source": [
    "Make a wave and play it."
   ]
  },
  {
   "cell_type": "code",
   "execution_count": null,
   "metadata": {},
   "outputs": [],
   "source": [
    "wave = signal.make_wave(duration=0.5, framerate=10000)\n",
    "wave.apodize()\n",
    "wave.make_audio()"
   ]
  },
  {
   "cell_type": "markdown",
   "metadata": {},
   "source": [
    "Compute its spectrum and plot it."
   ]
  },
  {
   "cell_type": "code",
   "execution_count": null,
   "metadata": {
    "scrolled": true
   },
   "outputs": [],
   "source": [
    "spectrum = wave.make_spectrum()\n",
    "spectrum.plot()"
   ]
  },
  {
   "cell_type": "markdown",
   "metadata": {},
   "source": [
    "### Aliasing\n",
    "\n",
    "Make a cosine signal at 4500 Hz, make a wave at framerate 10 kHz, and plot 5 periods."
   ]
  },
  {
   "cell_type": "code",
   "execution_count": null,
   "metadata": {},
   "outputs": [],
   "source": [
    "framerate = 10000\n",
    "\n",
    "signal = thinkdsp.CosSignal(4500)\n",
    "duration = signal.period*5\n",
    "segment = signal.make_wave(duration, framerate=framerate)\n",
    "segment.plot()"
   ]
  },
  {
   "cell_type": "markdown",
   "metadata": {},
   "source": [
    "Make a cosine signal at 5500 Hz, make a wave at framerate 10 kHz, and plot the same duration.\n",
    "\n",
    "With framerate 10 kHz, the folding frequency is 5 kHz, so a 4500 Hz signal and a 5500 Hz signal look exactly the same."
   ]
  },
  {
   "cell_type": "code",
   "execution_count": null,
   "metadata": {},
   "outputs": [],
   "source": [
    "signal = thinkdsp.CosSignal(5500)\n",
    "segment = signal.make_wave(duration, framerate=framerate)\n",
    "segment.plot()"
   ]
  },
  {
   "cell_type": "markdown",
   "metadata": {},
   "source": [
    "Make a triangle signal and plot the spectrum.  See how the harmonics get folded."
   ]
  },
  {
   "cell_type": "code",
   "execution_count": null,
   "metadata": {},
   "outputs": [],
   "source": [
    "signal = thinkdsp.TriangleSignal(1100)\n",
    "segment = signal.make_wave(duration=0.5, framerate=10000)\n",
    "spectrum = segment.make_spectrum()\n",
    "spectrum.plot()"
   ]
  },
  {
   "cell_type": "markdown",
   "metadata": {},
   "source": [
    "## Amplitude and phase\n",
    "\n",
    "Make a sawtooth wave."
   ]
  },
  {
   "cell_type": "code",
   "execution_count": null,
   "metadata": {},
   "outputs": [],
   "source": [
    "signal = thinkdsp.SawtoothSignal(500)\n",
    "wave = signal.make_wave(duration=1, framerate=10000)\n",
    "segment = wave.segment(duration=0.005)\n",
    "segment.plot()"
   ]
  },
  {
   "cell_type": "markdown",
   "metadata": {},
   "source": [
    "Play it."
   ]
  },
  {
   "cell_type": "code",
   "execution_count": null,
   "metadata": {
    "scrolled": true
   },
   "outputs": [],
   "source": [
    "wave.make_audio()"
   ]
  },
  {
   "cell_type": "markdown",
   "metadata": {},
   "source": [
    "Extract the wave array and compute the real FFT (which is just an FFT optimized for real inputs)."
   ]
  },
  {
   "cell_type": "code",
   "execution_count": null,
   "metadata": {},
   "outputs": [],
   "source": [
    "import numpy as np\n",
    "\n",
    "hs = np.fft.rfft(wave.ys)\n",
    "hs"
   ]
  },
  {
   "cell_type": "markdown",
   "metadata": {},
   "source": [
    "Compute the frequencies that match up with the elements of the FFT."
   ]
  },
  {
   "cell_type": "code",
   "execution_count": null,
   "metadata": {},
   "outputs": [],
   "source": [
    "n = len(wave.ys)                 # number of samples\n",
    "d = 1 / wave.framerate           # time between samples\n",
    "fs = np.fft.rfftfreq(n, d)\n",
    "fs"
   ]
  },
  {
   "cell_type": "markdown",
   "metadata": {},
   "source": [
    "Plot the magnitudes vs the frequencies."
   ]
  },
  {
   "cell_type": "code",
   "execution_count": null,
   "metadata": {},
   "outputs": [],
   "source": [
    "magnitude = np.absolute(hs)\n",
    "thinkplot.plot(fs, magnitude)"
   ]
  },
  {
   "cell_type": "markdown",
   "metadata": {},
   "source": [
    "Plot the phases vs the frequencies."
   ]
  },
  {
   "cell_type": "code",
   "execution_count": null,
   "metadata": {},
   "outputs": [],
   "source": [
    "angle = np.angle(hs)\n",
    "thinkplot.plot(fs, angle)"
   ]
  },
  {
   "cell_type": "markdown",
   "metadata": {},
   "source": [
    "## What does phase sound like?\n",
    "\n",
    "Shuffle the phases."
   ]
  },
  {
   "cell_type": "code",
   "execution_count": null,
   "metadata": {},
   "outputs": [],
   "source": [
    "import random\n",
    "random.shuffle(angle)\n",
    "thinkplot.plot(fs, angle)"
   ]
  },
  {
   "cell_type": "markdown",
   "metadata": {},
   "source": [
    "Put the shuffled phases back into the spectrum.  Each element in `hs` is a complex number with magitude $A$ and phase $\\phi$, with which we can compute $A e^{i \\phi}$"
   ]
  },
  {
   "cell_type": "code",
   "execution_count": null,
   "metadata": {},
   "outputs": [],
   "source": [
    "i = complex(0, 1)\n",
    "spectrum = wave.make_spectrum()\n",
    "spectrum.hs = magnitude * np.exp(i * angle)"
   ]
  },
  {
   "cell_type": "markdown",
   "metadata": {},
   "source": [
    "Convert the spectrum back to a wave (which uses irfft)."
   ]
  },
  {
   "cell_type": "code",
   "execution_count": null,
   "metadata": {},
   "outputs": [],
   "source": [
    "wave2 = spectrum.make_wave()\n",
    "wave2.normalize()\n",
    "segment = wave2.segment(duration=0.005)\n",
    "segment.plot()"
   ]
  },
  {
   "cell_type": "markdown",
   "metadata": {},
   "source": [
    "Play the wave with the shuffled phases."
   ]
  },
  {
   "cell_type": "code",
   "execution_count": null,
   "metadata": {},
   "outputs": [],
   "source": [
    "wave2.make_audio()"
   ]
  },
  {
   "cell_type": "markdown",
   "metadata": {},
   "source": [
    "For comparison, here's the original wave again."
   ]
  },
  {
   "cell_type": "code",
   "execution_count": null,
   "metadata": {
    "scrolled": true
   },
   "outputs": [],
   "source": [
    "wave.make_audio()"
   ]
  },
  {
   "cell_type": "markdown",
   "metadata": {},
   "source": [
    "Although the two signals have different waveforms, they have the same frequency components with the same amplitudes.  They differ only in phase."
   ]
  },
  {
   "cell_type": "markdown",
   "metadata": {},
   "source": [
    "## Aliasing interaction\n",
    "\n",
    "The following interaction explores the effect of aliasing on the harmonics of a sawtooth signal."
   ]
  },
  {
   "cell_type": "code",
   "execution_count": null,
   "metadata": {},
   "outputs": [],
   "source": [
    "def view_harmonics(freq, framerate):\n",
    "    signal = thinkdsp.SawtoothSignal(freq)\n",
    "    wave = signal.make_wave(duration=0.5, framerate=framerate)\n",
    "    spectrum = wave.make_spectrum()\n",
    "    spectrum.plot(color='blue')\n",
    "    thinkplot.show(xlabel='frequency', ylabel='amplitude')\n",
    "    \n",
    "    display(wave.make_audio())"
   ]
  },
  {
   "cell_type": "code",
   "execution_count": null,
   "metadata": {},
   "outputs": [],
   "source": [
    "from ipywidgets import interact, interactive, fixed\n",
    "import ipywidgets as widgets\n",
    "\n",
    "slider1 = widgets.FloatSlider(min=100, max=10000, value=100, step=100)\n",
    "slider2 = widgets.FloatSlider(min=5000, max=40000, value=10000, step=1000)\n",
    "interact(view_harmonics, freq=slider1, framerate=slider2);"
   ]
  },
  {
   "cell_type": "code",
   "execution_count": null,
   "metadata": {},
   "outputs": [],
   "source": []
  },
  {
   "cell_type": "code",
   "execution_count": null,
   "metadata": {},
   "outputs": [],
   "source": []
  }
 ],
 "metadata": {
  "kernelspec": {
   "display_name": "Python 3",
   "language": "python",
   "name": "python3"
  },
  "language_info": {
   "codemirror_mode": {
    "name": "ipython",
    "version": 3
   },
   "file_extension": ".py",
   "mimetype": "text/x-python",
   "name": "python",
   "nbconvert_exporter": "python",
   "pygments_lexer": "ipython3",
   "version": "3.6.3"
  }
 },
 "nbformat": 4,
 "nbformat_minor": 1
}
