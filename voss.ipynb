{
 "cells": [
  {
   "cell_type": "markdown",
   "metadata": {},
   "source": [
    "##ThinkDSP\n",
    "\n",
    "This notebook contains an implementation of an algorithm to generate pink noise.\n",
    "\n",
    "Copyright 2015 Allen Downey\n",
    "\n",
    "License: [Creative Commons Attribution 4.0 International](http://creativecommons.org/licenses/by/4.0/)"
   ]
  },
  {
   "cell_type": "code",
   "execution_count": 1,
   "metadata": {
    "collapsed": true
   },
   "outputs": [],
   "source": [
    "from __future__ import print_function, division\n",
    "\n",
    "import thinkdsp\n",
    "import thinkplot\n",
    "import thinkstats2\n",
    "\n",
    "import numpy as np\n",
    "import pandas as pd\n",
    "\n",
    "import warnings\n",
    "warnings.filterwarnings('ignore')\n",
    "\n",
    "from IPython.html.widgets import interact, interact_manual, fixed\n",
    "from IPython.html import widgets\n",
    "from IPython.display import display\n",
    "\n",
    "%matplotlib inline"
   ]
  },
  {
   "cell_type": "markdown",
   "metadata": {},
   "source": [
    "The Voss algorithm is described in this paper:\n",
    "\n",
    "Voss, R. F., & Clarke, J. (1978). \"1/f noise\" in music: Music from 1/f noise\". *Journal of the Acoustical Society of America* 63: 258–263. Bibcode:1978ASAJ...63..258V. doi:10.1121/1.381721.\n",
    "\n",
    "And presented by Martin Gardner in this *Scientific American* article:\n",
    "\n",
    "Gardner, M. (1978). \"Mathematical Games—White and brown music, fractal curves and one-over-f fluctuations\". *Scientific American* 238: 16–32.\n",
    "\n",
    "McCartney suggested an improvement here:\n",
    "\n",
    "http://www.firstpr.com.au/dsp/pink-noise/\n",
    "\n",
    "And Trammell proposed a stochastic version here:\n",
    "\n",
    "http://home.earthlink.net/~ltrammell/tech/pinkalg.htm"
   ]
  },
  {
   "cell_type": "markdown",
   "metadata": {},
   "source": [
    "The fundamental idea of this algorithm is to add up several sequences of random numbers that get updated at different rates.  The first source should get updated at every time step; the second source every other time step, the third source ever fourth step, and so on.\n",
    "\n",
    "In the original algorithm, the updates are evenly spaced.  In the stochastic version, they are randomly spaced.\n",
    "\n",
    "My implementation starts with an array with one row per timestep and one column for each of the white noise sources.  Initially, the first row and the first column are random and the rest of the array is Nan."
   ]
  },
  {
   "cell_type": "code",
   "execution_count": 2,
   "metadata": {
    "collapsed": false
   },
   "outputs": [
    {
     "data": {
      "text/plain": [
       "array([[ 0.30973475,  0.13644836,  0.11321186,  0.04576994,  0.36894925],\n",
       "       [ 0.56241627,         nan,         nan,         nan,         nan],\n",
       "       [ 0.39921072,         nan,         nan,         nan,         nan],\n",
       "       [ 0.89998773,         nan,         nan,         nan,         nan],\n",
       "       [ 0.59699131,         nan,         nan,         nan,         nan],\n",
       "       [ 0.13426275,         nan,         nan,         nan,         nan]])"
      ]
     },
     "execution_count": 2,
     "metadata": {},
     "output_type": "execute_result"
    }
   ],
   "source": [
    "nrows = 100\n",
    "ncols = 5\n",
    "\n",
    "array = np.empty((nrows, ncols))\n",
    "array.fill(np.nan)\n",
    "array[0, :] = np.random.random(ncols)\n",
    "array[:, 0] = np.random.random(nrows)\n",
    "array[0:6]"
   ]
  },
  {
   "cell_type": "markdown",
   "metadata": {},
   "source": [
    "The next step is to choose the locations where the random sources change.  If the number of rows is $n$, the number of changes in the first column is $n$, the number in the second column is $n/2$ on average, the number in the third column is $n/4$ on average, etc.\n",
    "\n",
    "So the total number of changes in the matrix is $2n$ on average; since $n$ of those are in the first column, the other $n$ are in the rest of the matrix.\n",
    "\n",
    "To place the remaining $n$ changes, we generate random columns from a geometric distribution with $p=0.5$.  If we generate a value out of bounds, we set it to 0 (so the first column gets the extras)."
   ]
  },
  {
   "cell_type": "code",
   "execution_count": 3,
   "metadata": {
    "collapsed": false
   },
   "outputs": [
    {
     "data": {
      "text/plain": [
       "array([1, 2, 1, 0, 1, 2, 3, 1, 4, 2, 1, 4, 3, 1, 1, 4, 1, 1, 3, 1, 3, 1, 0,\n",
       "       2, 1, 1, 2, 2, 1, 2, 0, 1, 2, 2, 1, 4, 1, 1, 1, 2, 1, 1, 1, 1, 1, 2,\n",
       "       1, 0, 2, 1, 2, 2, 2, 1, 2, 3, 2, 1, 1, 3, 2, 1, 2, 1, 1, 1, 2, 2, 1,\n",
       "       2, 1, 3, 1, 1, 0, 1, 4, 1, 1, 1, 2, 1, 2, 2, 2, 2, 1, 2, 1, 2, 1, 2,\n",
       "       1, 2, 1, 1, 1, 0, 1, 1])"
      ]
     },
     "execution_count": 3,
     "metadata": {},
     "output_type": "execute_result"
    }
   ],
   "source": [
    "p = 0.5\n",
    "n = nrows\n",
    "cols = np.random.geometric(p, n)\n",
    "cols[cols >= ncols] = 0\n",
    "cols"
   ]
  },
  {
   "cell_type": "markdown",
   "metadata": {},
   "source": [
    "Within each column, we choose a random row from a uniform distribution.  Ideally we would choose without replacement, but it is faster and easier to choose with replacement, and I doubt it matters."
   ]
  },
  {
   "cell_type": "code",
   "execution_count": 4,
   "metadata": {
    "collapsed": false
   },
   "outputs": [
    {
     "data": {
      "text/plain": [
       "array([44, 93, 72, 98, 33, 25, 68, 58, 72, 95,  3, 56,  6, 34, 35, 52, 99,\n",
       "        8, 77, 87, 36,  8, 13, 66, 53, 50, 35, 21, 43, 74, 91, 49, 33, 49,\n",
       "        8, 68, 55, 71, 53, 80, 48, 69, 90, 77, 46, 35,  3, 87, 77, 73, 72,\n",
       "       60, 68,  0, 88, 97, 12, 26, 79, 93, 43, 19, 74, 46, 27, 12, 70, 69,\n",
       "       88, 96, 49, 22, 21, 51, 55, 89,  2, 34, 87, 19, 29,  0, 62, 25, 82,\n",
       "       18, 82, 78, 76, 41, 10, 91, 99,  4, 80, 59, 30, 83, 62, 95])"
      ]
     },
     "execution_count": 4,
     "metadata": {},
     "output_type": "execute_result"
    }
   ],
   "source": [
    "rows = np.random.randint(nrows, size=n)\n",
    "rows"
   ]
  },
  {
   "cell_type": "markdown",
   "metadata": {},
   "source": [
    "Now we can put random values at rach of the change points."
   ]
  },
  {
   "cell_type": "code",
   "execution_count": 5,
   "metadata": {
    "collapsed": false
   },
   "outputs": [
    {
     "data": {
      "text/plain": [
       "array([[ 0.30973475,  0.05723103,  0.11321186,  0.04576994,  0.36894925],\n",
       "       [ 0.56241627,         nan,         nan,         nan,         nan],\n",
       "       [ 0.39921072,         nan,         nan,         nan,  0.04477062],\n",
       "       [ 0.89998773,  0.70811086,         nan,         nan,         nan],\n",
       "       [ 0.59699131,         nan,  0.93131827,         nan,         nan],\n",
       "       [ 0.13426275,         nan,         nan,         nan,         nan]])"
      ]
     },
     "execution_count": 5,
     "metadata": {},
     "output_type": "execute_result"
    }
   ],
   "source": [
    "array[rows, cols] = np.random.random(n)\n",
    "array[0:6]"
   ]
  },
  {
   "cell_type": "markdown",
   "metadata": {},
   "source": [
    "Next we want to do a zero-order hold to fill in the NaNs.  NumPy doesn't do that, but Pandas does.  So I'll create a DataFrame:"
   ]
  },
  {
   "cell_type": "code",
   "execution_count": 6,
   "metadata": {
    "collapsed": false
   },
   "outputs": [
    {
     "data": {
      "text/html": [
       "<div>\n",
       "<table border=\"1\" class=\"dataframe\">\n",
       "  <thead>\n",
       "    <tr style=\"text-align: right;\">\n",
       "      <th></th>\n",
       "      <th>0</th>\n",
       "      <th>1</th>\n",
       "      <th>2</th>\n",
       "      <th>3</th>\n",
       "      <th>4</th>\n",
       "    </tr>\n",
       "  </thead>\n",
       "  <tbody>\n",
       "    <tr>\n",
       "      <th>0</th>\n",
       "      <td>0.309735</td>\n",
       "      <td>0.057231</td>\n",
       "      <td>0.113212</td>\n",
       "      <td>0.04577</td>\n",
       "      <td>0.368949</td>\n",
       "    </tr>\n",
       "    <tr>\n",
       "      <th>1</th>\n",
       "      <td>0.562416</td>\n",
       "      <td>NaN</td>\n",
       "      <td>NaN</td>\n",
       "      <td>NaN</td>\n",
       "      <td>NaN</td>\n",
       "    </tr>\n",
       "    <tr>\n",
       "      <th>2</th>\n",
       "      <td>0.399211</td>\n",
       "      <td>NaN</td>\n",
       "      <td>NaN</td>\n",
       "      <td>NaN</td>\n",
       "      <td>0.044771</td>\n",
       "    </tr>\n",
       "    <tr>\n",
       "      <th>3</th>\n",
       "      <td>0.899988</td>\n",
       "      <td>0.708111</td>\n",
       "      <td>NaN</td>\n",
       "      <td>NaN</td>\n",
       "      <td>NaN</td>\n",
       "    </tr>\n",
       "    <tr>\n",
       "      <th>4</th>\n",
       "      <td>0.596991</td>\n",
       "      <td>NaN</td>\n",
       "      <td>0.931318</td>\n",
       "      <td>NaN</td>\n",
       "      <td>NaN</td>\n",
       "    </tr>\n",
       "  </tbody>\n",
       "</table>\n",
       "</div>"
      ],
      "text/plain": [
       "          0         1         2        3         4\n",
       "0  0.309735  0.057231  0.113212  0.04577  0.368949\n",
       "1  0.562416       NaN       NaN      NaN       NaN\n",
       "2  0.399211       NaN       NaN      NaN  0.044771\n",
       "3  0.899988  0.708111       NaN      NaN       NaN\n",
       "4  0.596991       NaN  0.931318      NaN       NaN"
      ]
     },
     "execution_count": 6,
     "metadata": {},
     "output_type": "execute_result"
    }
   ],
   "source": [
    "df = pd.DataFrame(array)\n",
    "df.head()"
   ]
  },
  {
   "cell_type": "markdown",
   "metadata": {},
   "source": [
    "And then use `fillna` along the columns."
   ]
  },
  {
   "cell_type": "code",
   "execution_count": 7,
   "metadata": {
    "collapsed": false
   },
   "outputs": [
    {
     "data": {
      "text/html": [
       "<div>\n",
       "<table border=\"1\" class=\"dataframe\">\n",
       "  <thead>\n",
       "    <tr style=\"text-align: right;\">\n",
       "      <th></th>\n",
       "      <th>0</th>\n",
       "      <th>1</th>\n",
       "      <th>2</th>\n",
       "      <th>3</th>\n",
       "      <th>4</th>\n",
       "    </tr>\n",
       "  </thead>\n",
       "  <tbody>\n",
       "    <tr>\n",
       "      <th>0</th>\n",
       "      <td>0.309735</td>\n",
       "      <td>0.057231</td>\n",
       "      <td>0.113212</td>\n",
       "      <td>0.04577</td>\n",
       "      <td>0.368949</td>\n",
       "    </tr>\n",
       "    <tr>\n",
       "      <th>1</th>\n",
       "      <td>0.562416</td>\n",
       "      <td>0.057231</td>\n",
       "      <td>0.113212</td>\n",
       "      <td>0.04577</td>\n",
       "      <td>0.368949</td>\n",
       "    </tr>\n",
       "    <tr>\n",
       "      <th>2</th>\n",
       "      <td>0.399211</td>\n",
       "      <td>0.057231</td>\n",
       "      <td>0.113212</td>\n",
       "      <td>0.04577</td>\n",
       "      <td>0.044771</td>\n",
       "    </tr>\n",
       "    <tr>\n",
       "      <th>3</th>\n",
       "      <td>0.899988</td>\n",
       "      <td>0.708111</td>\n",
       "      <td>0.113212</td>\n",
       "      <td>0.04577</td>\n",
       "      <td>0.044771</td>\n",
       "    </tr>\n",
       "    <tr>\n",
       "      <th>4</th>\n",
       "      <td>0.596991</td>\n",
       "      <td>0.708111</td>\n",
       "      <td>0.931318</td>\n",
       "      <td>0.04577</td>\n",
       "      <td>0.044771</td>\n",
       "    </tr>\n",
       "  </tbody>\n",
       "</table>\n",
       "</div>"
      ],
      "text/plain": [
       "          0         1         2        3         4\n",
       "0  0.309735  0.057231  0.113212  0.04577  0.368949\n",
       "1  0.562416  0.057231  0.113212  0.04577  0.368949\n",
       "2  0.399211  0.057231  0.113212  0.04577  0.044771\n",
       "3  0.899988  0.708111  0.113212  0.04577  0.044771\n",
       "4  0.596991  0.708111  0.931318  0.04577  0.044771"
      ]
     },
     "execution_count": 7,
     "metadata": {},
     "output_type": "execute_result"
    }
   ],
   "source": [
    "filled = df.fillna(method='ffill', axis=0)\n",
    "filled.head()"
   ]
  },
  {
   "cell_type": "markdown",
   "metadata": {},
   "source": [
    "Finally we add up the rows."
   ]
  },
  {
   "cell_type": "code",
   "execution_count": 8,
   "metadata": {
    "collapsed": false
   },
   "outputs": [
    {
     "data": {
      "text/plain": [
       "0    0.894897\n",
       "1    1.147578\n",
       "2    0.660194\n",
       "3    1.811851\n",
       "4    2.326961\n",
       "dtype: float64"
      ]
     },
     "execution_count": 8,
     "metadata": {},
     "output_type": "execute_result"
    }
   ],
   "source": [
    "total = filled.sum(axis=1)\n",
    "total.head()"
   ]
  },
  {
   "cell_type": "markdown",
   "metadata": {},
   "source": [
    "If we put the results into a Wave, here's what it looks like:"
   ]
  },
  {
   "cell_type": "code",
   "execution_count": 9,
   "metadata": {
    "collapsed": false
   },
   "outputs": [
    {
     "data": {
      "image/png": "[encoded data removed]",
      "text/plain": [
       "<matplotlib.figure.Figure at 0x7f881c7b1710>"
      ]
     },
     "metadata": {},
     "output_type": "display_data"
    }
   ],
   "source": [
    "wave = thinkdsp.Wave(total.values)\n",
    "wave.plot()"
   ]
  },
  {
   "cell_type": "markdown",
   "metadata": {},
   "source": [
    "Here's the whole process in a function:"
   ]
  },
  {
   "cell_type": "code",
   "execution_count": 10,
   "metadata": {
    "collapsed": true
   },
   "outputs": [],
   "source": [
    "def voss(nrows, ncols=16):\n",
    "    \"\"\"Generates pink noise using the Voss-McCartney algorithm.\n",
    "    \n",
    "    nrows: number of values to generate\n",
    "    rcols: number of random sources to add\n",
    "    \n",
    "    returns: NumPy array\n",
    "    \"\"\"\n",
    "    array = np.empty((nrows, ncols))\n",
    "    array.fill(np.nan)\n",
    "    array[0, :] = np.random.random(ncols)\n",
    "    array[:, 0] = np.random.random(nrows)\n",
    "    \n",
    "    # the total number of changes is nrows\n",
    "    n = nrows\n",
    "    cols = np.random.geometric(0.5, n)\n",
    "    cols[cols >= ncols] = 0\n",
    "    rows = np.random.randint(nrows, size=n)\n",
    "    array[rows, cols] = np.random.random(n)\n",
    "\n",
    "    df = pd.DataFrame(array)\n",
    "    df.fillna(method='ffill', axis=0, inplace=True)\n",
    "    total = df.sum(axis=1)\n",
    "\n",
    "    return total.values"
   ]
  },
  {
   "cell_type": "markdown",
   "metadata": {},
   "source": [
    "To test it I'll generate 11025 values:"
   ]
  },
  {
   "cell_type": "code",
   "execution_count": 11,
   "metadata": {
    "collapsed": false
   },
   "outputs": [
    {
     "data": {
      "text/plain": [
       "array([ 7.24661455,  5.86877653,  6.0911106 , ...,  6.72487128,\n",
       "        7.05666823,  7.73987228])"
      ]
     },
     "execution_count": 11,
     "metadata": {},
     "output_type": "execute_result"
    }
   ],
   "source": [
    "ys = voss(11025)\n",
    "ys"
   ]
  },
  {
   "cell_type": "markdown",
   "metadata": {},
   "source": [
    "And make them into a Wave:"
   ]
  },
  {
   "cell_type": "code",
   "execution_count": 12,
   "metadata": {
    "collapsed": false
   },
   "outputs": [],
   "source": [
    "wave = thinkdsp.Wave(ys)\n",
    "wave.unbias()\n",
    "wave.normalize()"
   ]
  },
  {
   "cell_type": "markdown",
   "metadata": {},
   "source": [
    "Here's what it looks like:"
   ]
  },
  {
   "cell_type": "code",
   "execution_count": 13,
   "metadata": {
    "collapsed": false
   },
   "outputs": [
    {
     "data": {
      "image/png": "[encoded data removed]",
      "text/plain": [
       "<matplotlib.figure.Figure at 0x7f87e0a95dd0>"
      ]
     },
     "metadata": {},
     "output_type": "display_data"
    }
   ],
   "source": [
    "wave.plot()\n",
    "thinkplot.config(xlabel='Time')"
   ]
  },
  {
   "cell_type": "markdown",
   "metadata": {},
   "source": [
    "As expected, it is more random-walk-like than white noise, but more random looking than red noise.\n",
    "\n",
    "Here's what it sounds like:"
   ]
  },
  {
   "cell_type": "code",
   "execution_count": 14,
   "metadata": {
    "collapsed": false
   },
   "outputs": [
    {
     "data": {
      "text/html": [
       "\n",
       "                <audio controls=\"controls\" >\n",
       "                    <source src=\"data:audio/wav;base64,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\" type=\"audio/wav\" />\n",
       "                    Your browser does not support the audio element.\n",
       "                </audio>\n",
       "              "
      ],
      "text/plain": [
       "<IPython.lib.display.Audio object>"
      ]
     },
     "execution_count": 14,
     "metadata": {},
     "output_type": "execute_result"
    }
   ],
   "source": [
    "wave.make_audio()"
   ]
  },
  {
   "cell_type": "markdown",
   "metadata": {},
   "source": [
    "And here's the power spectrum:"
   ]
  },
  {
   "cell_type": "code",
   "execution_count": 15,
   "metadata": {
    "collapsed": false
   },
   "outputs": [
    {
     "data": {
      "image/png": "[encoded data removed]",
      "text/plain": [
       "<matplotlib.figure.Figure at 0x7f87e0993210>"
      ]
     },
     "metadata": {},
     "output_type": "display_data"
    }
   ],
   "source": [
    "spectrum = wave.make_spectrum()\n",
    "spectrum.hs[0] = 0\n",
    "spectrum.plot_power()\n",
    "thinkplot.config(xlabel='Frequency (Hz)',\n",
    "                 xscale='log', \n",
    "                 yscale='log')"
   ]
  },
  {
   "cell_type": "markdown",
   "metadata": {},
   "source": [
    "The estimated slope is close to -1."
   ]
  },
  {
   "cell_type": "code",
   "execution_count": 16,
   "metadata": {
    "collapsed": false
   },
   "outputs": [
    {
     "data": {
      "text/plain": [
       "-0.9961376909404297"
      ]
     },
     "execution_count": 16,
     "metadata": {},
     "output_type": "execute_result"
    }
   ],
   "source": [
    "spectrum.estimate_slope().slope"
   ]
  },
  {
   "cell_type": "markdown",
   "metadata": {},
   "source": [
    "We can get a better sense of the average power spectrum by generating a longer sample:"
   ]
  },
  {
   "cell_type": "code",
   "execution_count": 17,
   "metadata": {
    "collapsed": false
   },
   "outputs": [
    {
     "data": {
      "text/plain": [
       "6553600"
      ]
     },
     "execution_count": 17,
     "metadata": {},
     "output_type": "execute_result"
    }
   ],
   "source": [
    "seg_length = 64 * 1024\n",
    "iters = 100\n",
    "wave = thinkdsp.Wave(voss(seg_length * iters))\n",
    "len(wave)"
   ]
  },
  {
   "cell_type": "markdown",
   "metadata": {},
   "source": [
    "And using Barlett's method to compute the average."
   ]
  },
  {
   "cell_type": "code",
   "execution_count": 18,
   "metadata": {
    "collapsed": true
   },
   "outputs": [],
   "source": [
    "def bartlett_method(wave, seg_length=512, win_flag=True):\n",
    "    \"\"\"Estimates the power spectrum of a noise wave.\n",
    "    \n",
    "    wave: Wave\n",
    "    seg_length: segment length\n",
    "    \"\"\"\n",
    "    # make a spectrogram and extract the spectrums\n",
    "    spectro = wave.make_spectrogram(seg_length, win_flag)\n",
    "    spectrums = spectro.spec_map.values()\n",
    "    \n",
    "    # extract the power array from each spectrum\n",
    "    psds = [spectrum.power for spectrum in spectrums]\n",
    "    \n",
    "    # compute the root mean power (which is like an amplitude)\n",
    "    hs = np.sqrt(sum(psds) / len(psds))\n",
    "    fs = spectrums[0].fs\n",
    "    \n",
    "    # make a Spectrum with the mean amplitudes\n",
    "    spectrum = thinkdsp.Spectrum(hs, fs, wave.framerate)\n",
    "    return spectrum"
   ]
  },
  {
   "cell_type": "code",
   "execution_count": 19,
   "metadata": {
    "collapsed": false
   },
   "outputs": [
    {
     "data": {
      "text/plain": [
       "32769"
      ]
     },
     "execution_count": 19,
     "metadata": {},
     "output_type": "execute_result"
    }
   ],
   "source": [
    "spectrum = bartlett_method(wave, seg_length=seg_length, win_flag=False)\n",
    "spectrum.hs[0] = 0\n",
    "len(spectrum)"
   ]
  },
  {
   "cell_type": "markdown",
   "metadata": {},
   "source": [
    "It's pretty close to a straight line, with some curvature at the highest frequencies."
   ]
  },
  {
   "cell_type": "code",
   "execution_count": 20,
   "metadata": {
    "collapsed": false
   },
   "outputs": [
    {
     "data": {
      "image/png": "[encoded data removed]",
      "text/plain": [
       "<matplotlib.figure.Figure at 0x7f881c7c0250>"
      ]
     },
     "metadata": {},
     "output_type": "display_data"
    }
   ],
   "source": [
    "spectrum.plot_power()\n",
    "thinkplot.config(xlabel='Frequency (Hz)',\n",
    "                 xscale='log', \n",
    "                 yscale='log')"
   ]
  },
  {
   "cell_type": "markdown",
   "metadata": {},
   "source": [
    "And the slope is close to -1."
   ]
  },
  {
   "cell_type": "code",
   "execution_count": 21,
   "metadata": {
    "collapsed": false
   },
   "outputs": [
    {
     "data": {
      "text/plain": [
       "-1.002158911102071"
      ]
     },
     "execution_count": 21,
     "metadata": {},
     "output_type": "execute_result"
    }
   ],
   "source": [
    "spectrum.estimate_slope().slope"
   ]
  },
  {
   "cell_type": "code",
   "execution_count": null,
   "metadata": {
    "collapsed": true
   },
   "outputs": [],
   "source": []
  }
 ],
 "metadata": {
  "kernelspec": {
   "display_name": "Python 2",
   "language": "python",
   "name": "python2"
  },
  "language_info": {
   "codemirror_mode": {
    "name": "ipython",
    "version": 2
   },
   "file_extension": ".py",
   "mimetype": "text/x-python",
   "name": "python",
   "nbconvert_exporter": "python",
   "pygments_lexer": "ipython2",
   "version": "2.7.10"
  }
 },
 "nbformat": 4,
 "nbformat_minor": 0
}
